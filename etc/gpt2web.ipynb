{
  "nbformat": 4,
  "nbformat_minor": 0,
  "metadata": {
    "colab": {
      "name": "Cool Storybro Notebook.ipynb",
      "provenance": []
    },
    "kernelspec": {
      "name": "python3",
      "display_name": "Python 3"
    }
  },
  "cells": [
    {
      "cell_type": "markdown",
      "metadata": {
        "id": "rPZ4yuJvH1Js",
        "colab_type": "text"
      },
      "source": [
        "```\n",
        "             ..~rr,,\n",
        "            .d╨\"\"\"╙╝╬N\n",
        "           ╔`        ╣Ñ\n",
        "      ,╓▄▄▄▓▄         ▌N        .oPYo.   o                      8\n",
        "    #▀\"` `Ñ\"▀        ║ÜÑ        8        8                      8\n",
        "        `\".          ▀▀▀▀█▄,    `Yooo.  o8P .oPYo. oPYo. o    o 8oPYo. oPYo. .oPYo.\n",
        "     ,╗▄▄,  :         *    ╙▌       `8   8  8    8 8  `' 8    8 8    8 8  `' 8    8\n",
        " .  ║▓▓███▌  r       ,,      '       8   8  8    8 8     8    8 8    8 8     8    8\n",
        "  -  ╙▀▀▀▀ .«      ╓▓▓███∩      `YooP'   8  `YooP' 8     `YooP8 `YooP' 8     `YooP'\n",
        "    \"ⁿ~╔▄µ^`     .  ▀███▀  »`   :.....:::..::.....:..:::::....8 :.....:..:::::.....:\n",
        "       ╟▓M        `~µ,.:;«*     :::::::::::::::::::::::::::ooP'.::::::::::::::::::::\n",
        "       ║▓M ,,      .▓▓    ,     :::::::::::::::::::::::::::...::::::::::::::::::::::\n",
        "       ║▓M ╫╫      ╒▓▓   ╬▓┘\n",
        "       ║╫Ñ ╫╫      :▓╫  ╠╫▌\n",
        "       j╫╫ ╫╫       ▓Ñ  Ñ╫\n",
        "        ▌░ ╬╩       ▓N  K╫\n",
        "        ▌` ╟H       ╣Ñ  Ü╫\n",
        "        ▓H  ▓>      ╨░  ╣░               Looks like you're writing a story.\n",
        "        ║▌  ╙Ñ»     ,┘  ╟ÑH\n",
        "         ▌    ╚N╗▄æ╩    ║╫╡                     Would you like help?\n",
        "         ║N.            ║╫╡\n",
        "          ▓             ]╫`\n",
        "           ▓..         .╠M\n",
        "            ▀▄,        .^\n",
        "              ╙ΦNww≥═*^\n",
        "```"
      ]
    },
    {
      "cell_type": "markdown",
      "metadata": {
        "id": "ermWruAn9Z1U",
        "colab_type": "text"
      },
      "source": [
        "# Instructions\n",
        "\n",
        "To start Press Ctrl+F9 or select `Runtime` -> `Run all`\n",
        "\n",
        "The game is in the bottom cell and takes a command as input.\n",
        "\n",
        "## Playing a Story:\n",
        "\n",
        "\n",
        "    storybro play new-story\n",
        "\n",
        "\n",
        "There are other commands available. Check out the help info:\n",
        "\n",
        "    storybro --help"
      ]
    },
    {
      "cell_type": "code",
      "metadata": {
        "id": "Ao8EnBoL6Cjn",
        "colab_type": "code",
        "colab": {},
        "cellView": "form"
      },
      "source": [
        "#@title Install Storybro\n",
        "!pip install --upgrade pip jsonschema \n",
        "!apt install aria2\n",
        "!pip install git+https://github.com/storybro/storybro.git"
      ],
      "execution_count": 0,
      "outputs": []
    },
    {
      "cell_type": "code",
      "metadata": {
        "id": "hGN6Lw-P8kOn",
        "colab_type": "code",
        "colab": {},
        "cellView": "form"
      },
      "source": [
        "#@title Install Model\n",
        "!storybro models get model_v5"
      ],
      "execution_count": 0,
      "outputs": []
    },
    {
      "cell_type": "code",
      "metadata": {
        "id": "9GyIGND99IOp",
        "colab_type": "code",
        "cellView": "form",
        "colab": {}
      },
      "source": [
        "#@title Run Storybro Command (eg: storybro play new-story)\n",
        "import sys\n",
        "\n",
        "command = \"storybro play new-story\" #@param {type:\"string\"}\n",
        "\n",
        "sys.argv = [\"storybro\", \"play\", \"story\"]\n",
        "\n",
        "from storybro import main\n",
        "\n",
        "main()"
      ],
      "execution_count": 0,
      "outputs": []
    }
  ]
}
